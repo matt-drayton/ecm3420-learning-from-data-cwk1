{
 "cells": [
  {
   "cell_type": "markdown",
   "metadata": {},
   "source": [
    "# Coursework 1 - Decision Trees Learning and K-Nearest Neighbors"
   ]
  },
  {
   "cell_type": "markdown",
   "metadata": {},
   "source": [
    "### Candidate Number: 020891"
   ]
  },
  {
   "cell_type": "markdown",
   "metadata": {},
   "source": [
    "## Summary\n",
    "In this coursework, your task is to develop a machine learning classifier for predicting female patients that at high risk of Diabetes. Your model is to support clinicians in identifying patients who are likely to have “Diabetes”. The dataset has 9 attributes in total including the “target/label” attribute. The full dataset is available on ELE under assessment coursework 1. The dataset consists of the following: \n"
   ]
  },
  {
   "cell_type": "markdown",
   "metadata": {},
   "source": [
    "## Dataset\n",
    "\n",
    "1. preg: Number of times pregnant\n",
    "2. plas: Plasma glucose concentration a 2 hours in an oral glucose tolerance test\n",
    "3. pres: Diastolic blood pressure (mm Hg)\n",
    "4. skin: Triceps skin fold thickness (mm)\n",
    "5. insu: 2-Hour serum insulin (mu U/ml)\n",
    "6. mass: Body mass index (weight in kg/(height in m)^2)\n",
    "7. pedi: Diabetes pedigree function\n",
    "8. age: Age (years)\n",
    "9. class: Class variable (0 or 1)"
   ]
  },
  {
   "cell_type": "code",
   "execution_count": 1,
   "metadata": {},
   "outputs": [],
   "source": [
    "# Imports\n",
    "import pandas as pd\n",
    "import matplotlib.pyplot as plt\n",
    "import numpy as np\n",
    "from tabulate import tabulate\n",
    "from sklearn import preprocessing\n",
    "import seaborn as sns\n",
    "%matplotlib inline\n",
    "\n",
    "dia_all = pd.read_csv(\"diabetes.txt\") # This loads the full dataset \n",
    "                 # In the file, attributes are separated by ,"
   ]
  },
  {
   "cell_type": "markdown",
   "metadata": {},
   "source": [
    "## Seperate the input (attributes) from target (label)"
   ]
  },
  {
   "cell_type": "code",
   "execution_count": 2,
   "metadata": {},
   "outputs": [],
   "source": [
    "sourcevars = dia_all.iloc[:,:-1] #all rows + all columns except the last one\n",
    "targetvar = dia_all.iloc[:,-1:] #all rows + only the last column"
   ]
  },
  {
   "cell_type": "code",
   "execution_count": 3,
   "metadata": {},
   "outputs": [
    {
     "data": {
      "text/html": [
       "<div>\n",
       "<style scoped>\n",
       "    .dataframe tbody tr th:only-of-type {\n",
       "        vertical-align: middle;\n",
       "    }\n",
       "\n",
       "    .dataframe tbody tr th {\n",
       "        vertical-align: top;\n",
       "    }\n",
       "\n",
       "    .dataframe thead th {\n",
       "        text-align: right;\n",
       "    }\n",
       "</style>\n",
       "<table border=\"1\" class=\"dataframe\">\n",
       "  <thead>\n",
       "    <tr style=\"text-align: right;\">\n",
       "      <th></th>\n",
       "      <th>preg</th>\n",
       "      <th>plas</th>\n",
       "      <th>pres</th>\n",
       "      <th>skin</th>\n",
       "      <th>insu</th>\n",
       "      <th>mass</th>\n",
       "      <th>pedi</th>\n",
       "      <th>age</th>\n",
       "    </tr>\n",
       "  </thead>\n",
       "  <tbody>\n",
       "    <tr>\n",
       "      <th>0</th>\n",
       "      <td>6</td>\n",
       "      <td>148</td>\n",
       "      <td>72</td>\n",
       "      <td>35</td>\n",
       "      <td>0</td>\n",
       "      <td>33.6</td>\n",
       "      <td>0.627</td>\n",
       "      <td>50</td>\n",
       "    </tr>\n",
       "    <tr>\n",
       "      <th>1</th>\n",
       "      <td>1</td>\n",
       "      <td>85</td>\n",
       "      <td>66</td>\n",
       "      <td>29</td>\n",
       "      <td>0</td>\n",
       "      <td>26.6</td>\n",
       "      <td>0.351</td>\n",
       "      <td>31</td>\n",
       "    </tr>\n",
       "    <tr>\n",
       "      <th>2</th>\n",
       "      <td>8</td>\n",
       "      <td>183</td>\n",
       "      <td>64</td>\n",
       "      <td>0</td>\n",
       "      <td>0</td>\n",
       "      <td>23.3</td>\n",
       "      <td>0.672</td>\n",
       "      <td>32</td>\n",
       "    </tr>\n",
       "    <tr>\n",
       "      <th>3</th>\n",
       "      <td>1</td>\n",
       "      <td>89</td>\n",
       "      <td>66</td>\n",
       "      <td>23</td>\n",
       "      <td>94</td>\n",
       "      <td>28.1</td>\n",
       "      <td>0.167</td>\n",
       "      <td>21</td>\n",
       "    </tr>\n",
       "    <tr>\n",
       "      <th>4</th>\n",
       "      <td>0</td>\n",
       "      <td>137</td>\n",
       "      <td>40</td>\n",
       "      <td>35</td>\n",
       "      <td>168</td>\n",
       "      <td>43.1</td>\n",
       "      <td>2.288</td>\n",
       "      <td>33</td>\n",
       "    </tr>\n",
       "  </tbody>\n",
       "</table>\n",
       "</div>"
      ],
      "text/plain": [
       "   preg  plas  pres  skin  insu  mass   pedi  age\n",
       "0     6   148    72    35     0  33.6  0.627   50\n",
       "1     1    85    66    29     0  26.6  0.351   31\n",
       "2     8   183    64     0     0  23.3  0.672   32\n",
       "3     1    89    66    23    94  28.1  0.167   21\n",
       "4     0   137    40    35   168  43.1  2.288   33"
      ]
     },
     "execution_count": 3,
     "metadata": {},
     "output_type": "execute_result"
    }
   ],
   "source": [
    "sourcevars.head()"
   ]
  },
  {
   "cell_type": "code",
   "execution_count": 4,
   "metadata": {},
   "outputs": [
    {
     "data": {
      "text/html": [
       "<div>\n",
       "<style scoped>\n",
       "    .dataframe tbody tr th:only-of-type {\n",
       "        vertical-align: middle;\n",
       "    }\n",
       "\n",
       "    .dataframe tbody tr th {\n",
       "        vertical-align: top;\n",
       "    }\n",
       "\n",
       "    .dataframe thead th {\n",
       "        text-align: right;\n",
       "    }\n",
       "</style>\n",
       "<table border=\"1\" class=\"dataframe\">\n",
       "  <thead>\n",
       "    <tr style=\"text-align: right;\">\n",
       "      <th></th>\n",
       "      <th>class</th>\n",
       "    </tr>\n",
       "  </thead>\n",
       "  <tbody>\n",
       "    <tr>\n",
       "      <th>0</th>\n",
       "      <td>tested_positive</td>\n",
       "    </tr>\n",
       "    <tr>\n",
       "      <th>1</th>\n",
       "      <td>tested_negative</td>\n",
       "    </tr>\n",
       "    <tr>\n",
       "      <th>2</th>\n",
       "      <td>tested_positive</td>\n",
       "    </tr>\n",
       "    <tr>\n",
       "      <th>3</th>\n",
       "      <td>tested_negative</td>\n",
       "    </tr>\n",
       "    <tr>\n",
       "      <th>4</th>\n",
       "      <td>tested_positive</td>\n",
       "    </tr>\n",
       "  </tbody>\n",
       "</table>\n",
       "</div>"
      ],
      "text/plain": [
       "             class\n",
       "0  tested_positive\n",
       "1  tested_negative\n",
       "2  tested_positive\n",
       "3  tested_negative\n",
       "4  tested_positive"
      ]
     },
     "execution_count": 4,
     "metadata": {},
     "output_type": "execute_result"
    }
   ],
   "source": [
    "targetvar.head()"
   ]
  },
  {
   "cell_type": "markdown",
   "metadata": {},
   "source": [
    "# Task 1: Exploratory Data Analysis"
   ]
  },
  {
   "cell_type": "markdown",
   "metadata": {},
   "source": [
    "The first step I have done to explore the data is to look at its description. Pandas can return tabular information about a dataframe with useful information such as minimum and maximum values for each attribute."
   ]
  },
  {
   "cell_type": "code",
   "execution_count": 5,
   "metadata": {},
   "outputs": [
    {
     "data": {
      "text/html": [
       "<div>\n",
       "<style scoped>\n",
       "    .dataframe tbody tr th:only-of-type {\n",
       "        vertical-align: middle;\n",
       "    }\n",
       "\n",
       "    .dataframe tbody tr th {\n",
       "        vertical-align: top;\n",
       "    }\n",
       "\n",
       "    .dataframe thead th {\n",
       "        text-align: right;\n",
       "    }\n",
       "</style>\n",
       "<table border=\"1\" class=\"dataframe\">\n",
       "  <thead>\n",
       "    <tr style=\"text-align: right;\">\n",
       "      <th></th>\n",
       "      <th>preg</th>\n",
       "      <th>plas</th>\n",
       "      <th>pres</th>\n",
       "      <th>skin</th>\n",
       "      <th>insu</th>\n",
       "      <th>mass</th>\n",
       "      <th>pedi</th>\n",
       "      <th>age</th>\n",
       "    </tr>\n",
       "  </thead>\n",
       "  <tbody>\n",
       "    <tr>\n",
       "      <th>count</th>\n",
       "      <td>768.000000</td>\n",
       "      <td>768.000000</td>\n",
       "      <td>768.000000</td>\n",
       "      <td>768.000000</td>\n",
       "      <td>768.000000</td>\n",
       "      <td>768.000000</td>\n",
       "      <td>768.000000</td>\n",
       "      <td>768.000000</td>\n",
       "    </tr>\n",
       "    <tr>\n",
       "      <th>mean</th>\n",
       "      <td>3.845052</td>\n",
       "      <td>120.894531</td>\n",
       "      <td>69.105469</td>\n",
       "      <td>20.536458</td>\n",
       "      <td>79.799479</td>\n",
       "      <td>31.992578</td>\n",
       "      <td>0.471876</td>\n",
       "      <td>33.240885</td>\n",
       "    </tr>\n",
       "    <tr>\n",
       "      <th>std</th>\n",
       "      <td>3.369578</td>\n",
       "      <td>31.972618</td>\n",
       "      <td>19.355807</td>\n",
       "      <td>15.952218</td>\n",
       "      <td>115.244002</td>\n",
       "      <td>7.884160</td>\n",
       "      <td>0.331329</td>\n",
       "      <td>11.760232</td>\n",
       "    </tr>\n",
       "    <tr>\n",
       "      <th>min</th>\n",
       "      <td>0.000000</td>\n",
       "      <td>0.000000</td>\n",
       "      <td>0.000000</td>\n",
       "      <td>0.000000</td>\n",
       "      <td>0.000000</td>\n",
       "      <td>0.000000</td>\n",
       "      <td>0.078000</td>\n",
       "      <td>21.000000</td>\n",
       "    </tr>\n",
       "    <tr>\n",
       "      <th>25%</th>\n",
       "      <td>1.000000</td>\n",
       "      <td>99.000000</td>\n",
       "      <td>62.000000</td>\n",
       "      <td>0.000000</td>\n",
       "      <td>0.000000</td>\n",
       "      <td>27.300000</td>\n",
       "      <td>0.243750</td>\n",
       "      <td>24.000000</td>\n",
       "    </tr>\n",
       "    <tr>\n",
       "      <th>50%</th>\n",
       "      <td>3.000000</td>\n",
       "      <td>117.000000</td>\n",
       "      <td>72.000000</td>\n",
       "      <td>23.000000</td>\n",
       "      <td>30.500000</td>\n",
       "      <td>32.000000</td>\n",
       "      <td>0.372500</td>\n",
       "      <td>29.000000</td>\n",
       "    </tr>\n",
       "    <tr>\n",
       "      <th>75%</th>\n",
       "      <td>6.000000</td>\n",
       "      <td>140.250000</td>\n",
       "      <td>80.000000</td>\n",
       "      <td>32.000000</td>\n",
       "      <td>127.250000</td>\n",
       "      <td>36.600000</td>\n",
       "      <td>0.626250</td>\n",
       "      <td>41.000000</td>\n",
       "    </tr>\n",
       "    <tr>\n",
       "      <th>max</th>\n",
       "      <td>17.000000</td>\n",
       "      <td>199.000000</td>\n",
       "      <td>122.000000</td>\n",
       "      <td>99.000000</td>\n",
       "      <td>846.000000</td>\n",
       "      <td>67.100000</td>\n",
       "      <td>2.420000</td>\n",
       "      <td>81.000000</td>\n",
       "    </tr>\n",
       "  </tbody>\n",
       "</table>\n",
       "</div>"
      ],
      "text/plain": [
       "             preg        plas        pres        skin        insu        mass  \\\n",
       "count  768.000000  768.000000  768.000000  768.000000  768.000000  768.000000   \n",
       "mean     3.845052  120.894531   69.105469   20.536458   79.799479   31.992578   \n",
       "std      3.369578   31.972618   19.355807   15.952218  115.244002    7.884160   \n",
       "min      0.000000    0.000000    0.000000    0.000000    0.000000    0.000000   \n",
       "25%      1.000000   99.000000   62.000000    0.000000    0.000000   27.300000   \n",
       "50%      3.000000  117.000000   72.000000   23.000000   30.500000   32.000000   \n",
       "75%      6.000000  140.250000   80.000000   32.000000  127.250000   36.600000   \n",
       "max     17.000000  199.000000  122.000000   99.000000  846.000000   67.100000   \n",
       "\n",
       "             pedi         age  \n",
       "count  768.000000  768.000000  \n",
       "mean     0.471876   33.240885  \n",
       "std      0.331329   11.760232  \n",
       "min      0.078000   21.000000  \n",
       "25%      0.243750   24.000000  \n",
       "50%      0.372500   29.000000  \n",
       "75%      0.626250   41.000000  \n",
       "max      2.420000   81.000000  "
      ]
     },
     "execution_count": 5,
     "metadata": {},
     "output_type": "execute_result"
    }
   ],
   "source": [
    "dia_all.describe()"
   ]
  },
  {
   "cell_type": "markdown",
   "metadata": {},
   "source": [
    "Some values in the data do not make sense to be zero. For example, a person cannot have 0 BMI. Attributes should be replaced with NaN when they are missing. This prevents models being trained on invalid data later on."
   ]
  },
  {
   "cell_type": "code",
   "execution_count": 6,
   "metadata": {},
   "outputs": [],
   "source": [
    "# Replace 0 with NaN where 0 does not make sense\n",
    "dia_all['plas'].replace(0, np.nan, inplace=True)\n",
    "dia_all['pres'].replace(0, np.nan, inplace=True)\n",
    "dia_all['skin'].replace(0, np.nan, inplace=True)\n",
    "dia_all['insu'].replace(0, np.nan, inplace=True)\n",
    "dia_all['mass'].replace(0, np.nan, inplace=True)\n",
    "dia_all['pedi'].replace(0, np.nan, inplace=True)\n",
    "\n",
    "# Update source and target dataframes with new NaN values\n",
    "sourcevars = dia_all.iloc[:,:-1] #all rows + all columns except the last one\n",
    "targetvar = dia_all.iloc[:,-1:] #all rows + only the last column"
   ]
  },
  {
   "cell_type": "markdown",
   "metadata": {},
   "source": [
    "## Chart #1\n",
    "The first chart that I have drawn to understand the data is a boxplot for each attribute of the data. This is useful because it tells us a few things about the data. It gives us an intuition for the range of values for each attribute and their spread. \n",
    "\n",
    "From the chart below, insulin stands out as an attribute with a very wide range and a lot of outliers. It also has a positive skew of values suggesting that lower levels are more common.  "
   ]
  },
  {
   "cell_type": "code",
   "execution_count": 7,
   "metadata": {},
   "outputs": [
    {
     "data": {
      "text/plain": [
       "<AxesSubplot:>"
      ]
     },
     "execution_count": 7,
     "metadata": {},
     "output_type": "execute_result"
    },
    {
     "data": {
      "image/png": "[encoded data removed]",
      "text/plain": [
       "<Figure size 432x288 with 1 Axes>"
      ]
     },
     "metadata": {
      "needs_background": "light"
     },
     "output_type": "display_data"
    }
   ],
   "source": [
    "sns.boxplot(data=sourcevars)"
   ]
  },
  {
   "cell_type": "markdown",
   "metadata": {},
   "source": [
    "## Chart #2\n",
    "The second chart plotted BMI against triceps skin fold thickness. I have also coloured data points that tested positive in orange. This will allow me to see a predictable positive correlation relationship. It will also show me how these values differ for positive patients against negative patients."
   ]
  },
  {
   "cell_type": "code",
   "execution_count": 8,
   "metadata": {},
   "outputs": [
    {
     "data": {
      "text/plain": [
       "<matplotlib.legend.Legend at 0x2c6ea334520>"
      ]
     },
     "execution_count": 8,
     "metadata": {},
     "output_type": "execute_result"
    },
    {
     "data": {
      "image/png": "[encoded data removed]",
      "text/plain": [
       "<Figure size 432x288 with 1 Axes>"
      ]
     },
     "metadata": {
      "needs_background": "light"
     },
     "output_type": "display_data"
    }
   ],
   "source": [
    "plt.scatter(dia_all['mass'][dia_all['class'] == 'tested_positive'], dia_all['skin'][dia_all['class'] == 'tested_positive'], label=\"Tested Positive\")\n",
    "plt.scatter(dia_all['mass'][dia_all['class'] == 'tested_negative'], dia_all['skin'][dia_all['class'] == 'tested_negative'], label=\"Tested Negative\")\n",
    "plt.legend()"
   ]
  },
  {
   "cell_type": "markdown",
   "metadata": {},
   "source": [
    "# Correlation Analysis\n",
    "I will be performing correlation analysis between 2-Hour serum inslulin and Plasma glucose concenrtation."
   ]
  },
  {
   "cell_type": "code",
   "execution_count": 9,
   "metadata": {},
   "outputs": [
    {
     "name": "stdout",
     "output_type": "stream",
     "text": [
      "Pearson's rank of correlation for plasma against insulin:  0.5811862089121649\n"
     ]
    },
    {
     "data": {
      "image/png": "[encoded data removed]",
      "text/plain": [
       "<Figure size 432x288 with 1 Axes>"
      ]
     },
     "metadata": {
      "needs_background": "light"
     },
     "output_type": "display_data"
    }
   ],
   "source": [
    "sns.regplot(x=sourcevars['plas'], y=sourcevars['insu'])\n",
    "\n",
    "print(\"Pearson's rank of correlation for plasma against insulin: \", sourcevars['insu'].corr(sourcevars['plas']))"
   ]
  },
  {
   "cell_type": "markdown",
   "metadata": {},
   "source": [
    "Above, we can see that the level of insluin is positively correlated to the level of glucose in the patient's blood. This makes logical sense as the body increases insluin levels to respond to an increase in glucose. \n",
    "\n",
    "The value obtained for Pearson's rank confirms this. By being a positive number, we know that there is positive correlation. A value of 0.58... implies that there is mid-strong correlation between the two attributes."
   ]
  },
  {
   "cell_type": "markdown",
   "metadata": {},
   "source": [
    "# Task 2: Classification"
   ]
  },
  {
   "cell_type": "markdown",
   "metadata": {},
   "source": [
    "## Data Preprocessing\n",
    "Before the data is used for training models, it should be processed. Before, we replaced any zero values that do not make sense with NaN. These missing values will cause errors when feeding them to our models. \n",
    "\n",
    "We need to find suitable values to replace the zeros with.\n",
    "\n",
    "The way I have chosen to do this is to replace them with the mean value for that attribute. This has the benefit of being a value that makes sense in context. The data will not be skewed by outliers. \n",
    "\n",
    "We then want to scale the data. Although this is not useful for the decision trees, it will be useful when creating the KNN models. KNN uses euclidian distance. We scale the attributes so that one individual feature does not 'weigh' more than others on the model.\n",
    "\n",
    "I have chosen to standardize the data instead of normalizing it. This is because my boxplot analysis of the data showed that there are many outliers in the dataset. Normalizing the data would have it heavily biased by these outliers."
   ]
  },
  {
   "cell_type": "code",
   "execution_count": 10,
   "metadata": {},
   "outputs": [],
   "source": [
    "# Standardisation\n",
    "from sklearn.experimental import enable_iterative_imputer\n",
    "from sklearn.impute import SimpleImputer\n",
    "\n",
    "# Replace zero values with mean value for attribute\n",
    "imp_mean = SimpleImputer(missing_values=np.nan)\n",
    "imp_mean.fit(sourcevars)\n",
    "transformed = imp_mean.transform(sourcevars)\n",
    "sourcevars = pd.DataFrame(transformed, columns=sourcevars.columns)\n",
    "\n",
    "# Standardise the values \n",
    "arr = sourcevars.values\n",
    "scaler = preprocessing.StandardScaler()\n",
    "x_scaled = scaler.fit_transform(arr)\n",
    "standardsourcevars = pd.DataFrame(x_scaled, columns=sourcevars.columns)\n"
   ]
  },
  {
   "cell_type": "code",
   "execution_count": 11,
   "metadata": {},
   "outputs": [
    {
     "name": "stdout",
     "output_type": "stream",
     "text": [
      "Fold 1:\n",
      "Gini Tree Result: 64.93506493506493%\n",
      "Entropy Tree Result: 67.53246753246754%\n",
      "Entropy tree performed better.\n",
      "\n",
      "Fold 2:\n",
      "Gini Tree Result: 61.68831168831169%\n",
      "Entropy Tree Result: 64.93506493506493%\n",
      "Entropy tree performed better.\n",
      "\n",
      "Fold 3:\n",
      "Gini Tree Result: 74.02597402597402%\n",
      "Entropy Tree Result: 72.72727272727273%\n",
      "Gini tree performed better.\n",
      "\n",
      "Fold 4:\n",
      "Gini Tree Result: 75.16339869281046%\n",
      "Entropy Tree Result: 70.58823529411765%\n",
      "Gini tree performed better.\n",
      "\n",
      "Fold 5:\n",
      "Gini Tree Result: 73.8562091503268%\n",
      "Entropy Tree Result: 67.97385620915033%\n",
      "Gini tree performed better.\n",
      "\n",
      "Average Totals:\n",
      "Gini Tree: 69.93379169849759%\n",
      "Entropy Tree: 68.75137933961464%\n",
      "Gini tree performed better.\n"
     ]
    },
    {
     "data": {
      "text/plain": [
       "(0.0, 100.0)"
      ]
     },
     "execution_count": 11,
     "metadata": {},
     "output_type": "execute_result"
    },
    {
     "data": {
      "image/png": "[encoded data removed]",
      "text/plain": [
       "<Figure size 432x288 with 1 Axes>"
      ]
     },
     "metadata": {
      "needs_background": "light"
     },
     "output_type": "display_data"
    }
   ],
   "source": [
    "from sklearn.model_selection import cross_val_score\n",
    "from sklearn import tree\n",
    "from sklearn.model_selection import KFold\n",
    "from itertools import count\n",
    "\n",
    "k5fold = KFold(n_splits=5, shuffle=False)\n",
    "\n",
    "# Create trees using different evaluators\n",
    "gini_tree = tree.DecisionTreeClassifier(criterion=\"gini\", random_state=0)\n",
    "entropy_tree = tree.DecisionTreeClassifier(criterion=\"entropy\", random_state=0)\n",
    "\n",
    "# Complete KFold cross validation on both trees\n",
    "gini_tree_results = cross_val_score(gini_tree, standardsourcevars, targetvar, cv=k5fold)\n",
    "entropy_tree_results = cross_val_score(entropy_tree, standardsourcevars, targetvar, cv=k5fold)\n",
    "\n",
    "# Output results one fold at a time.\n",
    "for i, gini_tree_result, entropy_tree_result in zip(count(), gini_tree_results, entropy_tree_results):\n",
    "    print(f\"Fold {i+1}:\")\n",
    "    print(f\"Gini Tree Result: {gini_tree_result*100}%\\nEntropy Tree Result: {entropy_tree_result*100}%\")\n",
    "    if gini_tree_result > entropy_tree_result:\n",
    "        print(\"Gini tree performed better.\")\n",
    "    elif entropy_tree_result > gini_tree_result:\n",
    "        print(\"Entropy tree performed better.\")\n",
    "    else:\n",
    "        print(\"Both trees performed equally.\")\n",
    "    print()\n",
    "\n",
    "# Find and print average performance\n",
    "entropy_tree_average = np.mean(entropy_tree_results)*100\n",
    "gini_tree_average = np.mean(gini_tree_results)*100\n",
    "print(\"Average Totals:\")\n",
    "print(f\"Gini Tree: {gini_tree_average}%\\nEntropy Tree: {entropy_tree_average}%\")\n",
    "if gini_tree_average > entropy_tree_average:\n",
    "    print(\"Gini tree performed better.\")\n",
    "elif entropy_tree_average > gini_tree_average:\n",
    "    print(\"Entropy tree performed better.\")\n",
    "else:\n",
    "    print(\"Both trees performed equally.\")\n",
    "\n",
    "# Plot results\n",
    "x = np.arange(5)+1\n",
    "\n",
    "plt.bar(x-.12, np.array(gini_tree_results)*100, label=\"Gini Tree Results\", width=0.24)\n",
    "plt.bar(x+.12, np.array(entropy_tree_results)*100, label=\"Entropy Tree Results\", width=0.24)\n",
    "plt.legend()\n",
    "plt.title('Decision Tree Performance')\n",
    "plt.xlabel('Fold No.')\n",
    "plt.ylabel('Accuracy %')\n",
    "plt.ylim(0, 100)"
   ]
  },
  {
   "cell_type": "code",
   "execution_count": 12,
   "metadata": {},
   "outputs": [
    {
     "name": "stdout",
     "output_type": "stream",
     "text": [
      "Fold 1:\n",
      "One Neighbor Result: 69.48051948051948%\n",
      "Three Neighbor Result: 74.67532467532467%\n",
      "Five Neighbor Result: 74.67532467532467%\n",
      "\n",
      "Fold 2:\n",
      "One Neighbor Result: 64.28571428571429%\n",
      "Three Neighbor Result: 71.42857142857143%\n",
      "Five Neighbor Result: 71.42857142857143%\n",
      "\n",
      "Fold 3:\n",
      "One Neighbor Result: 71.42857142857143%\n",
      "Three Neighbor Result: 72.72727272727273%\n",
      "Five Neighbor Result: 72.72727272727273%\n",
      "\n",
      "Fold 4:\n",
      "One Neighbor Result: 75.16339869281046%\n",
      "Three Neighbor Result: 75.81699346405229%\n",
      "Five Neighbor Result: 76.47058823529412%\n",
      "\n",
      "Fold 5:\n",
      "One Neighbor Result: 65.359477124183%\n",
      "Three Neighbor Result: 72.54901960784314%\n",
      "Five Neighbor Result: 74.50980392156863%\n",
      "\n",
      "Average totals: \n",
      "One Neighbour: 69.14353620235974%\n",
      "Three Neighbour: 73.43943638061286%\n",
      "Five Neighbour: 73.96231219760632%\n"
     ]
    },
    {
     "data": {
      "text/plain": [
       "(0.0, 100.0)"
      ]
     },
     "execution_count": 12,
     "metadata": {},
     "output_type": "execute_result"
    },
    {
     "data": {
      "image/png": "[encoded data removed]",
      "text/plain": [
       "<Figure size 432x288 with 1 Axes>"
      ]
     },
     "metadata": {
      "needs_background": "light"
     },
     "output_type": "display_data"
    }
   ],
   "source": [
    "from sklearn.neighbors import KNeighborsClassifier\n",
    "\n",
    "# Initialise KNN classifiers with n_neighbours parameters\n",
    "k1 = KNeighborsClassifier(n_neighbors=1)\n",
    "k3 = KNeighborsClassifier(n_neighbors=3)\n",
    "k5 = KNeighborsClassifier(n_neighbors=5)\n",
    "\n",
    "# Complete KFold validaiton on each classifier.\n",
    "k1_results = cross_val_score(k1, standardsourcevars, np.ravel(targetvar), cv=k5fold)\n",
    "k3_results = cross_val_score(k3, standardsourcevars, np.ravel(targetvar), cv=k5fold)\n",
    "k5_results = cross_val_score(k5, standardsourcevars, np.ravel(targetvar), cv=k5fold)\n",
    "\n",
    "# Output results\n",
    "for i, k1_result, k3_result, k5_result in zip(count(), k1_results, k3_results, k5_results):\n",
    "    print(f\"Fold {i+1}:\")\n",
    "    print(f\"One Neighbor Result: {k1_result*100}%\")\n",
    "    print(f\"Three Neighbor Result: {k3_result*100}%\")    \n",
    "    print(f\"Five Neighbor Result: {k5_result*100}%\")  \n",
    "    print()\n",
    "\n",
    "# Find and output average results\n",
    "print(\"Average totals: \")\n",
    "print(f\"One Neighbour: {np.mean(k1_results)*100}%\")\n",
    "print(f\"Three Neighbour: {np.mean(k3_results)*100}%\")\n",
    "print(f\"Five Neighbour: {np.mean(k5_results)*100}%\")\n",
    "\n",
    "# Graph results\n",
    "x = np.arange(5)+1\n",
    "fig, ax = plt.subplots()\n",
    "\n",
    "a = ax.bar(x-0.25, np.array(k1_results)*100, label=\"K=1\", width=0.25)\n",
    "b = ax.bar(x, np.array(k3_results)*100, label=\"K=3\", width=0.25)\n",
    "c = ax.bar(x+0.25, np.array(k5_results)*100, label=\"K=5\", width=0.25)\n",
    "ax.legend()\n",
    "plt.title('K Nearest Neighbour Performance')\n",
    "plt.xlabel('Fold No.')\n",
    "plt.ylabel('Accuracy %')\n",
    "plt.ylim(0, 100)"
   ]
  },
  {
   "cell_type": "code",
   "execution_count": 13,
   "metadata": {},
   "outputs": [
    {
     "name": "stdout",
     "output_type": "stream",
     "text": [
      "|   Min Samples Leaf |   Result Accuracy |\n",
      "|--------------------+-------------------|\n",
      "|                  2 |           71.4286 |\n",
      "|                  3 |           71.8615 |\n",
      "|                  4 |           70.9957 |\n",
      "|                  5 |           73.5931 |\n"
     ]
    },
    {
     "data": {
      "image/png": "[encoded data removed]",
      "text/plain": [
       "<Figure size 432x288 with 1 Axes>"
      ]
     },
     "metadata": {
      "needs_background": "light"
     },
     "output_type": "display_data"
    }
   ],
   "source": [
    "from sklearn.model_selection import train_test_split\n",
    "\n",
    "# Split data 70:30 into training : testing data.\n",
    "X_train, X_test, y_train, y_test = train_test_split(standardsourcevars, targetvar, train_size=0.7, shuffle=False)\n",
    "\n",
    "tree_results = []\n",
    "\n",
    "# Create decision trees for each minimum leaf value 2 - 5\n",
    "for i in range(2, 6):\n",
    "    dt = tree.DecisionTreeClassifier(min_samples_leaf=i, random_state=0)\n",
    "    dt = dt.fit(X_train, y_train)\n",
    "    tree_results.append(dt.score(X_test, y_test)*100)\n",
    "\n",
    "# Plot results\n",
    "x = np.arange(2, 6)\n",
    "plt.bar(x, tree_results, width=0.5)\n",
    "plt.ylim(0, 100)\n",
    "ax.legend()\n",
    "plt.title('Decision Tree Min Samples Tuning')\n",
    "plt.xlabel('Min Samples')\n",
    "plt.ylabel('Accuracy %')\n",
    "print(tabulate(zip(x, tree_results), headers=[\"Min Samples Leaf\", \"Result Accuracy\"], tablefmt='orgtbl'))"
   ]
  },
  {
   "cell_type": "code",
   "execution_count": 14,
   "metadata": {},
   "outputs": [
    {
     "name": "stdout",
     "output_type": "stream",
     "text": [
      "|   Max Depth |   Result Accuracy |\n",
      "|-------------+-------------------|\n",
      "|           3 |           74.8918 |\n",
      "|           4 |           77.4892 |\n",
      "|           5 |           77.9221 |\n",
      "|           6 |           73.1602 |\n"
     ]
    },
    {
     "data": {
      "image/png": "[encoded data removed]",
      "text/plain": [
       "<Figure size 432x288 with 1 Axes>"
      ]
     },
     "metadata": {
      "needs_background": "light"
     },
     "output_type": "display_data"
    }
   ],
   "source": [
    "X_train, X_test, y_train, y_test = train_test_split(standardsourcevars, targetvar, train_size=0.7, shuffle=False)\n",
    "\n",
    "tree_results = []\n",
    "\n",
    "# Create decision trees for each max depth 3 - 6 \n",
    "for i in range(3, 7):\n",
    "    dt = tree.DecisionTreeClassifier(max_depth=i, random_state=0)\n",
    "    dt = dt.fit(X_train, y_train)\n",
    "    tree_results.append(dt.score(X_test, y_test)*100)\n",
    "\n",
    "# Plot results\n",
    "plt.bar(range(3, 7), tree_results, width=0.5)\n",
    "plt.ylim(0, 100)\n",
    "ax.legend()\n",
    "plt.title('Decision Tree Max Depth Tuning')\n",
    "plt.xlabel('Min Samples')\n",
    "plt.ylabel('Accuracy %')\n",
    "plt.ylim(0, 100)\n",
    "print(tabulate(zip(range(3,7), tree_results), headers=[\"Max Depth\", \"Result Accuracy\"], tablefmt='orgtbl'))"
   ]
  },
  {
   "cell_type": "markdown",
   "metadata": {},
   "source": [
    "# Reflection"
   ]
  },
  {
   "cell_type": "markdown",
   "metadata": {},
   "source": [
    "## Justitication of the correlation attributes selection\n",
    "I chose to look at the correlation between the glucose level in blood and the insulin level. With prior knowledge, I could expect that these values would be correlated together as the body releases insulin to handle the glucose present in the blood. However, we could also expect that it would not be an extremely positive correlation as diabetes affects how much the body can produce insulin. In finding a value ~0.5, this confirmed my initial understanding of the data. \n",
    "\n",
    "\n",
    "\n",
    "## Interpretation / Explanation of the experiments and results\n",
    "In this project we have used two different methods: Decision Trees and K Nearest Neighbours.\n",
    "\n",
    "Note: Throughout the project, I have disabled shuffles and/or set seeds so that the behaviour of the program is deterministic. \n",
    "### KFolds\n",
    "We want to be able to estimate how well a model is performing. This can be done by splitting a dataset into training and test data. The model is trained on the 'training' data and then evaluated on how well it classifies the 'test' data. This method is inconvenient on smaller datasets. We do not want to split the data more than we have to. We can solve this using k-fold cross validaiton.  \n",
    "\n",
    "K-Fold cross validation is the process of splitting the dataset evenly into K 'folds'. Each fold is split into test and training data. For each fold, the model is trained on the training data from its own fold, combined with all of the data from each other fold. It is then evaluated against its own training data. The skill of the model overall can then be summarised by looking at how it performed in each fold. \n",
    "\n",
    "This process means that each sample is tested against the model at some point. In this project, we will be using K-Fold cross validation with a K value of 5.\n",
    "\n",
    "### Decision Trees\n",
    "Decision Trees can be used to classify records. They work by asking questions of the data. Each question should split the dataset into two parts. The goal is to ask enough questions to be able to correctly classify each record in the dataset. We want to be able to do this in as few questions as possible. In order to do this, we need a way of evaluating which questions are best.\n",
    "\n",
    "In this project, we use two such evaluations: Gini impurity and Entropy information gain.\n",
    "\n",
    "Gini measures the impurity of a set by evaluating how likely you are to misidentify a record's class by choosing randomly based on the distribution of the class values. The lower the probability, the purer a set is.\n",
    "\n",
    "Entropy measures the information gain by looking at the entropy of the datasets produced. The two methods generally perform very similarly. Entropy is more computationally involved due to its usage of logarithms. \n",
    "\n",
    "The two methods perform very similarly. In my test case (seeded for determinisim), Gini performs at 69.8% accuracy where Entropy performs at 68.7%. \n",
    "\n",
    "### K Nearest Neighbours\n",
    "K Nearest Neighbour is a clustering method used to classify records. The model is trained by feeding it each record. The model notes each attribute. New records are then classified by calculating the K nearest neighbours. A majority vote is taken to assign the new record a label. The method of calcualting distance in this case is Euclidian. Any method can be used, however. \n",
    "\n",
    "Tuning the value of 'k' is done by trying models with different values and seeing which performs best. In the case of this data, using one neighbour performs the worst at 69.1%. Using three and five neighbours improve on this, performing similarly at 73.4% and 73.9% respectively. \n",
    "\n",
    "### Tuning Decision Trees\n",
    "The next step in the project was to tune the decision trees by trying different values for two parameters: Minimum samples leaf and the maximum depth of  the tree. \n",
    "\n",
    "In the case of the minimum samples required to be a leaf node, the effect was minimal. \n",
    "\n",
    "In the case of the maximum depth of the tree, there was an effect. A depth of four or five seems to be ideal. Increasing this depth can result in overfitting whilst lowering it can result in underfitting.\n",
    "## Reflection on the results, advantages, and limitations of the methods used\n",
    "In comparing both methods, it seems that KNN had mildly more success on average than decision trees. Below, I will compare the pros and cons of both.\n",
    "\n",
    "### Decision Trees\n",
    "\n",
    "#### Pros:\n",
    "- Easy to understand and explain\n",
    "- Not much preprocessing required\n",
    "- Did not require data scaling\n",
    "\n",
    "#### Cons:\n",
    "- Expensive time and space complexity\n",
    "- Changing data slightly can reduce the effectiveness of the entire tree, requiring retraining\n",
    "- Many options for tuning, all of which require experimentation\n",
    "\n",
    "### K Nearest Neighbours\n",
    "\n",
    "#### Pros:\n",
    "- Very easy to tune with only two main parameters: Value of K and method for measuring distance \n",
    "- Easy to understand and explain\n",
    "\n",
    "#### Cons:\n",
    "- Data must be scaled or distances will be skewed\n",
    "- Bad at handling missing data\n",
    "- Must experiment to find the best value of K\n",
    "\n",
    "\n",
    "## Possible improvements\n",
    "The dataset had many missing values. Eliminating all records with zero-values would result in half of the dataset being lost. To solve this, I replaced these values with the average value for that attribute globally. There are more complicated solutions to this, including predicting the missing value based on the correlation with other attributes. Whilst this will not effect the Decision Trees much, KNN suffers greatly from incomplete data."
   ]
  }
 ],
 "metadata": {
  "kernelspec": {
   "display_name": "Python 3",
   "language": "python",
   "name": "python3"
  },
  "language_info": {
   "codemirror_mode": {
    "name": "ipython",
    "version": 3
   },
   "file_extension": ".py",
   "mimetype": "text/x-python",
   "name": "python",
   "nbconvert_exporter": "python",
   "pygments_lexer": "ipython3",
   "version": "3.8.3"
  }
 },
 "nbformat": 4,
 "nbformat_minor": 2
}
